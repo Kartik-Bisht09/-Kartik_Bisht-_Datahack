{
 "cells": [
  {
   "cell_type": "code",
   "execution_count": 1,
   "id": "a3cb8d26-d657-41a2-b8f5-34619c909436",
   "metadata": {},
   "outputs": [],
   "source": [
    "import pandas as pd\n",
    "import os\n",
    "\n",
    "train_features = pd.read_csv(\"training_set_features.csv\")\n",
    "train_labels = pd.read_csv(\"training_set_labels.csv\")\n",
    "test_features = pd.read_csv(\"test_set_features.csv\")\n",
    "train_features = train_features.merge(train_labels, on='respondent_id')"
   ]
  },
  {
   "cell_type": "code",
   "execution_count": 2,
   "id": "8a3869d7-2bf4-45a8-9153-689da94be640",
   "metadata": {},
   "outputs": [],
   "source": [
    "from sklearn.impute import SimpleImputer\n",
    "\n",
    "X = train_features.drop(columns=['respondent_id', 'xyz_vaccine', 'seasonal_vaccine'])\n",
    "y_xyz = train_features[['xyz_vaccine']].values\n",
    "y_s = train_features[['seasonal_vaccine']].values\n",
    "X_test = test_features.drop(columns=['respondent_id'])\n",
    "\n",
    "imputer = SimpleImputer(strategy='most_frequent')\n",
    "X_i = imputer.fit_transform(X)\n",
    "X_test_i = imputer.transform(X_test)\n",
    "X_i = pd.DataFrame(X_i, columns=X.columns)\n",
    "X_test_i = pd.DataFrame(X_test_i, columns=X_test.columns)"
   ]
  },
  {
   "cell_type": "code",
   "execution_count": 3,
   "id": "d8abc68d-3b1e-4987-a75d-bc4f2b69a607",
   "metadata": {},
   "outputs": [],
   "source": [
    "from sklearn.preprocessing import LabelEncoder\n",
    "\n",
    "headings = {}\n",
    "for column in X.columns:\n",
    "    if X[column].dtype == 'object':\n",
    "        le = LabelEncoder()\n",
    "        X_i[column] = le.fit_transform(X_i[column])\n",
    "        X_test_i[column] = le.transform(X_test_i[column])\n",
    "        headings[column] = le"
   ]
  },
  {
   "cell_type": "code",
   "execution_count": 4,
   "id": "1daa57a4-7ff4-4365-a654-26d195d240ec",
   "metadata": {},
   "outputs": [],
   "source": [
    "from sklearn.preprocessing import StandardScaler\n",
    "\n",
    "scaler = StandardScaler()\n",
    "X = scaler.fit_transform(X_i)\n",
    "X_test = scaler.transform(X_test_i)"
   ]
  },
  {
   "cell_type": "code",
   "execution_count": 5,
   "id": "77c73ebd-664c-4a24-a5f5-a45323ff6e7e",
   "metadata": {},
   "outputs": [
    {
     "name": "stdout",
     "output_type": "stream",
     "text": [
      "ROC AUC in Logistic 0.8398170406107611\n"
     ]
    }
   ],
   "source": [
    "from sklearn.linear_model import LogisticRegression\n",
    "from sklearn.metrics import roc_auc_score\n",
    "\n",
    "lr_xyz = LogisticRegression(max_iter=1000)\n",
    "lr_xyz.fit(X_i, y_xyz.ravel())\n",
    "\n",
    "lr_seasonal = LogisticRegression(max_iter=1000)\n",
    "lr_seasonal.fit(X_i, y_s.ravel())\n",
    "\n",
    "roc_auc_xyz_lr = roc_auc_score(y_xyz, lr_xyz.predict_proba(X_i)[:, 1],average='macro')\n",
    "roc_auc_seasonal_lr = roc_auc_score(y_s, lr_seasonal.predict_proba(X_i)[:, 1],average='macro')\n",
    "print(f\"ROC AUC in Logistic {(roc_auc_xyz_lr+roc_auc_seasonal_lr )/2}\")\n",
    "\n",
    "xyz_vaccine_lr = lr_xyz.predict_proba(X_test_i)[:, 1] \n",
    "seasonal_vaccine_lr = lr_seasonal.predict_proba(X_test_i)[:, 1] "
   ]
  },
  {
   "cell_type": "code",
   "execution_count": 6,
   "id": "ee385416-dd36-4a3a-a12c-a208cc189be1",
   "metadata": {},
   "outputs": [
    {
     "name": "stdout",
     "output_type": "stream",
     "text": [
      "ROC AUC in Guassian Naive Bias is 0.7931017761076203\n"
     ]
    }
   ],
   "source": [
    "from sklearn.naive_bayes import GaussianNB\n",
    "\n",
    "gnb_xyz = GaussianNB()\n",
    "gnb_seasonal = GaussianNB()\n",
    "\n",
    "gnb_xyz.fit(X_i, y_xyz.ravel())\n",
    "gnb_seasonal.fit(X_i, y_s.ravel())\n",
    "\n",
    "roc_auc_xyz_gnb = roc_auc_score(y_xyz, gnb_xyz.predict_proba(X_i)[:, 1])\n",
    "roc_auc_seasonal_gnb = roc_auc_score(y_s, gnb_seasonal.predict_proba(X_i)[:, 1]) \n",
    "print(f\"ROC AUC in Guassian Naive Bias is {(roc_auc_xyz_gnb+roc_auc_seasonal_gnb)/2}\")\n",
    "\n",
    "xyz_vaccine_gnb = gnb_xyz.predict_proba(X_test_i)[:, 1]\n",
    "seasonal_vaccine_gnb = gnb_seasonal.predict_proba(X_test_i)[:, 1]"
   ]
  },
  {
   "cell_type": "code",
   "execution_count": 7,
   "id": "ce5c60de-1ede-464e-967c-b8ed4f348789",
   "metadata": {},
   "outputs": [
    {
     "name": "stdout",
     "output_type": "stream",
     "text": [
      "ROC AUC in SVM is 0.8434537851078453\n"
     ]
    }
   ],
   "source": [
    "from sklearn import svm\n",
    "\n",
    "svm_xyz = svm.SVC(probability=True, kernel='rbf')\n",
    "svm_seasonal = svm.SVC(probability=True, kernel='rbf')\n",
    "\n",
    "svm_xyz.fit(X_i, y_xyz.ravel())\n",
    "svm_seasonal.fit(X_i, y_s.ravel())\n",
    "\n",
    "roc_auc_xyz_svm = roc_auc_score(y_xyz, svm_xyz.predict_proba(X_i)[:, 1])\n",
    "roc_auc_seasonal_svm = roc_auc_score(y_s, svm_seasonal.predict_proba(X_i)[:, 1])\n",
    "print(f\"ROC AUC in SVM is {(roc_auc_xyz_svm+roc_auc_seasonal_svm)/2}\")\n",
    "\n",
    "xyz_vaccine_svm = svm_xyz.predict_proba(X_test_i)[:, 1]\n",
    "seasonal_vaccine_svm = svm_seasonal.predict_proba(X_test_i)[:, 1]"
   ]
  },
  {
   "cell_type": "code",
   "execution_count": 8,
   "id": "425af661-9b60-43f7-864f-3460a3c0696f",
   "metadata": {},
   "outputs": [],
   "source": [
    "test_ids = test_features['respondent_id']\n",
    "submission = pd.DataFrame({\n",
    "    'respondent_id': test_ids,\n",
    "    'xyz_vaccine': xyz_vaccine_lr,\n",
    "    'seasonal_vaccine': seasonal_vaccine_lr\n",
    "})\n",
    "submission.to_csv('submission.csv', index=False)"
   ]
  }
 ],
 "metadata": {
  "kernelspec": {
   "display_name": "Python 3 (ipykernel)",
   "language": "python",
   "name": "python3"
  },
  "language_info": {
   "codemirror_mode": {
    "name": "ipython",
    "version": 3
   },
   "file_extension": ".py",
   "mimetype": "text/x-python",
   "name": "python",
   "nbconvert_exporter": "python",
   "pygments_lexer": "ipython3",
   "version": "3.11.7"
  }
 },
 "nbformat": 4,
 "nbformat_minor": 5
}
